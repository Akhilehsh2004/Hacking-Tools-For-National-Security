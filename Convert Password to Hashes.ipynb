{
 "cells": [
  {
   "cell_type": "markdown",
   "id": "0c060d9d-2425-40b7-86b7-eb863043a022",
   "metadata": {},
   "source": [
    "## Convert Password to Hashes"
   ]
  },
  {
   "cell_type": "code",
   "execution_count": 7,
   "id": "454ee233-0a92-4b04-83c9-b7ea07614fa4",
   "metadata": {},
   "outputs": [
    {
     "name": "stdin",
     "output_type": "stream",
     "text": [
      "Enter the password to hash:  I love You Chetna\n"
     ]
    },
    {
     "name": "stdout",
     "output_type": "stream",
     "text": [
      "Original Password: I love You Chetna\n",
      "\n",
      "Hashed Versions:\n",
      "MD5     : 805b2545889a41f773b3ab34f7c0cef7\n",
      "SHA-1   : dc9a4da83389d2341f254d06638de32dc2f54138\n",
      "SHA-256 : 9f9a67274722541a526fb0f4b66a9ed9429e3c73698be93ff050db32f002ff03\n",
      "SHA-512 : 722a0aa36c0da11bd7e4c999c57a6e92d1aedea1845332ec37da686c167f8fcd7fd8dab3ff8ab29879409e4f38b99e78c48996bcf6cf32281ff1b035847879d4\n"
     ]
    }
   ],
   "source": [
    "import hashlib\n",
    "\n",
    "def hash_password(password):\n",
    "    print(f\"Original Password: {password}\\n\")\n",
    "\n",
    "    print(\"Hashed Versions:\")\n",
    "    print(\"MD5     :\", hashlib.md5(password.encode()).hexdigest())\n",
    "    print(\"SHA-1   :\", hashlib.sha1(password.encode()).hexdigest())\n",
    "    print(\"SHA-256 :\", hashlib.sha256(password.encode()).hexdigest())\n",
    "    print(\"SHA-512 :\", hashlib.sha512(password.encode()).hexdigest())\n",
    "\n",
    "# Example usage\n",
    "user_password = input(\"Enter the password to hash: \")\n",
    "hash_password(user_password)\n"
   ]
  },
  {
   "cell_type": "code",
   "execution_count": null,
   "id": "2fc02e2d-71a7-4714-afa6-94de5aa53e4e",
   "metadata": {},
   "outputs": [],
   "source": []
  }
 ],
 "metadata": {
  "kernelspec": {
   "display_name": "Python [conda env:base] *",
   "language": "python",
   "name": "conda-base-py"
  },
  "language_info": {
   "codemirror_mode": {
    "name": "ipython",
    "version": 3
   },
   "file_extension": ".py",
   "mimetype": "text/x-python",
   "name": "python",
   "nbconvert_exporter": "python",
   "pygments_lexer": "ipython3",
   "version": "3.12.7"
  }
 },
 "nbformat": 4,
 "nbformat_minor": 5
}
