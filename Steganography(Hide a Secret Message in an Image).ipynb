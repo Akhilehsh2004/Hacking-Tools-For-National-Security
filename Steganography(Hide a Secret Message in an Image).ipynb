{
 "cells": [
  {
   "cell_type": "code",
   "execution_count": 27,
   "id": "1a305e21-0aa3-4383-9606-f125a82e6cb4",
   "metadata": {},
   "outputs": [],
   "source": [
    "from stegano import lsb"
   ]
  },
  {
   "cell_type": "code",
   "execution_count": 29,
   "id": "46a07f21-43d8-4341-afbe-982c3aa83458",
   "metadata": {},
   "outputs": [],
   "source": [
    "# Hide a message in the image\n",
    "secret_mgs = \"@Terrorists\"\n",
    "stego_image = lsb.hide(\"Taliban.jpg\", secret_mgs) # Original image"
   ]
  },
  {
   "cell_type": "code",
   "execution_count": 31,
   "id": "abed9ea5-8ef4-47c7-8ce0-a3040419874a",
   "metadata": {},
   "outputs": [
    {
     "name": "stdout",
     "output_type": "stream",
     "text": [
      "Message hidden successfully!\n"
     ]
    }
   ],
   "source": [
    "# Save the new image with hidden txt\n",
    "stego_image.save(\"hidden_image.png\") # Image with hidden text\n",
    "\n",
    "print(\"Message hidden successfully!\")"
   ]
  },
  {
   "cell_type": "markdown",
   "id": "eb14f202-0ae2-43a1-8899-f2a8a1632e70",
   "metadata": {},
   "source": [
    "## Retrieve the Hidden Message"
   ]
  },
  {
   "cell_type": "code",
   "execution_count": 34,
   "id": "3843a324-1958-47e0-a083-b34181b2674d",
   "metadata": {},
   "outputs": [
    {
     "name": "stdout",
     "output_type": "stream",
     "text": [
      "Hidden Message: @Terrorists\n"
     ]
    }
   ],
   "source": [
    "hidden_msg = lsb.reveal(\"hidden_image.png\")\n",
    "print(\"Hidden Message:\", hidden_msg)"
   ]
  },
  {
   "cell_type": "code",
   "execution_count": 7,
   "id": "a50369c7-5fc1-4d28-8bd6-c71fac59f3ef",
   "metadata": {
    "scrolled": true
   },
   "outputs": [
    {
     "name": "stdout",
     "output_type": "stream",
     "text": [
      "🎙 Speak the secret passphrase...\n",
      "✅ Voice Authentication Successful\n",
      "❌ Decryption failed: \n",
      "❌ No hidden message found.\n"
     ]
    }
   ],
   "source": [
    "import cv2\n",
    "import numpy as np\n",
    "import random\n",
    "import os\n",
    "import speech_recognition as sr\n",
    "from cryptography.fernet import Fernet\n",
    "from dotenv import load_dotenv\n",
    "\n",
    "# Load the AES key securely from .env file\n",
    "load_dotenv()\n",
    "AES_KEY = os.getenv(\"AES_KEY\")\n",
    "\n",
    "# Ensure the key is available and valid\n",
    "if AES_KEY is None:\n",
    "    raise ValueError(\"❌ AES_KEY not found! Make sure you have a valid .env file.\")\n",
    "\n",
    "try:\n",
    "    cipher = Fernet(AES_KEY)  # No need to encode, it's already base64\n",
    "except Exception as e:\n",
    "    raise ValueError(f\"❌ Invalid AES_KEY in .env! Error: {e}\")\n",
    "\n",
    "def decrypt_message(encrypted_message):\n",
    "    \"\"\"Decrypt message using AES-256 Fernet\"\"\"\n",
    "    try:\n",
    "        decrypted_data = cipher.decrypt(encrypted_message.encode())\n",
    "        return decrypted_data.decode()\n",
    "    except Exception as e:\n",
    "        print(f\"❌ Decryption failed: {e}\")\n",
    "        return None\n",
    "\n",
    "def extract_message(image_path, secret_key):\n",
    "    \"\"\"Extracts the hidden message using randomized LSB steganography\"\"\"\n",
    "    image = cv2.imread(image_path)\n",
    "    if image is None:\n",
    "        print(\"❌ Error: Image not found!\")\n",
    "        return None\n",
    "\n",
    "    h, w, _ = image.shape\n",
    "    total_pixels = h * w * 3\n",
    "    random.seed(secret_key)\n",
    "    positions = random.sample(range(total_pixels), total_pixels)\n",
    "\n",
    "    binary_message = \"\"\n",
    "    for pos in positions:\n",
    "        x = (pos // 3) % w\n",
    "        y = (pos // (3 * w))\n",
    "        channel = pos % 3\n",
    "        binary_message += str(image[y, x, channel] & 1)\n",
    "\n",
    "        if binary_message.endswith(\"1111111111111110\"):  # End marker\n",
    "            try:\n",
    "                encrypted_message = ''.join(chr(int(binary_message[i:i+8], 2)) for i in range(0, len(binary_message)-16, 8))\n",
    "                decrypted_message = decrypt_message(encrypted_message)\n",
    "                return decrypted_message\n",
    "            except Exception as e:\n",
    "                print(f\"❌ Error extracting message: {e}\")\n",
    "                return None\n",
    "\n",
    "    print(\"❌ No hidden message found!\")\n",
    "    return None\n",
    "\n",
    "def authenticate_voice(passphrase):\n",
    "    \"\"\"Authenticate user using voice recognition\"\"\"\n",
    "    recognizer = sr.Recognizer()\n",
    "    with sr.Microphone() as source:\n",
    "        print(\"🎙 Speak the secret passphrase...\")\n",
    "        try:\n",
    "            audio = recognizer.listen(source, timeout=5)\n",
    "            spoken_text = recognizer.recognize_google(audio)\n",
    "            return spoken_text.lower() == passphrase.lower()\n",
    "        except:\n",
    "            return False\n",
    "\n",
    "# 🔹 Multi-Level Authentication 🔹\n",
    "SECRET_PASSPHRASE = \"follow me\"  # Set a highly secure passphrase\n",
    "\n",
    "if authenticate_voice(SECRET_PASSPHRASE):\n",
    "    print(\"✅ Voice Authentication Successful\")\n",
    "    extracted_message = extract_message(\"encoded_secure.png\", secret_key=12345)\n",
    "    if extracted_message:\n",
    "        print(f\"🔓 Decrypted Message: {extracted_message}\")\n",
    "    else:\n",
    "        print(\"❌ No hidden message found.\")\n",
    "else:\n",
    "    print(\"❌ Voice Authentication Failed!\")\n"
   ]
  },
  {
   "cell_type": "code",
   "execution_count": 27,
   "id": "5a89cd22-41c7-4892-b561-258eab718be9",
   "metadata": {},
   "outputs": [
    {
     "name": "stdout",
     "output_type": "stream",
     "text": [
      "Your secure AES-256 key: jIUB0NqhvTsYHu3N1iiEe-pDPQ8_qFlYsp6BDnPjKnY=\n"
     ]
    }
   ],
   "source": [
    "from cryptography.fernet import Fernet\n",
    "\n",
    "# Generate a new AES-256 key\n",
    "new_key = Fernet.generate_key()\n",
    "\n",
    "# Save the key securely\n",
    "print(f\"Your secure AES-256 key: {new_key.decode()}\")\n"
   ]
  },
  {
   "cell_type": "code",
   "execution_count": 5,
   "id": "817535cd-7bdb-4dbb-8ac9-a508fae69bc7",
   "metadata": {},
   "outputs": [
    {
     "name": "stdout",
     "output_type": "stream",
     "text": [
      "PwDqJjp3p30y_qeNPTaJIlqJ7f_3LEn3e7NEBl0CpkI=\n"
     ]
    }
   ],
   "source": [
    "from cryptography.fernet import Fernet\n",
    "\n",
    "key = Fernet.generate_key()\n",
    "print(key.decode())  # Copy this key and store it in your .env file as AES_KEY\n"
   ]
  },
  {
   "cell_type": "code",
   "execution_count": 3,
   "id": "1ae1d20a-f00a-47ac-a0f6-7cb7b51e5c08",
   "metadata": {},
   "outputs": [
    {
     "name": "stdout",
     "output_type": "stream",
     "text": [
      "Hashed Authentication Code: f419ac24c4a9bd376a9f16bfc9c840267e293c04bfbadffc3acaaa8ef81ae2d2\n"
     ]
    }
   ],
   "source": [
    "import hashlib\n",
    "\n",
    "auth_code = \"follow me\"  # Change this to your secret passphrase\n",
    "hashed_auth = hashlib.sha256(auth_code.encode()).hexdigest()\n",
    "print(\"Hashed Authentication Code:\", hashed_auth)\n"
   ]
  },
  {
   "cell_type": "code",
   "execution_count": 8,
   "id": "93a0979e-2315-48b7-ad96-f6c38cae1b5d",
   "metadata": {},
   "outputs": [
    {
     "name": "stdout",
     "output_type": "stream",
     "text": [
      "❌ Unauthorized Access! Data will self-destruct.\n"
     ]
    }
   ],
   "source": [
    "import cv2\n",
    "import numpy as np\n",
    "import random\n",
    "import hashlib\n",
    "from Crypto.Cipher import AES\n",
    "import base64\n",
    "\n",
    "# AES Encryption/Decryption Functions\n",
    "def decrypt_message(encrypted_message, key):\n",
    "    \"\"\"Decrypts AES-256 encrypted message\"\"\"\n",
    "    key = hashlib.sha256(key.encode()).digest()  # Generate strong key\n",
    "    encrypted_message = base64.b64decode(encrypted_message)\n",
    "    iv = encrypted_message[:16]  # Extract IV\n",
    "    cipher = AES.new(key, AES.MODE_CBC, iv)\n",
    "    decrypted = cipher.decrypt(encrypted_message[16:]).decode('utf-8', errors=\"ignore\")\n",
    "    return decrypted.rstrip()  # Remove padding\n",
    "\n",
    "def extract_message(image_path, secret_key, auth_code):\n",
    "    \"\"\"Extracts encrypted message using randomized LSB steganography\"\"\"\n",
    "    \n",
    "    # Authentication Check\n",
    "    if hashlib.sha256(auth_code.encode()).hexdigest() != \"f419ac24c4a9bd376a9f16bfc9c840267e293c04bfbadffc3acaaa8ef81ae2d2\":  # Replace with pre-set hash\n",
    "        print(\"❌ Unauthorized Access! Data will self-destruct.\")\n",
    "        return None  # Exit without revealing message\n",
    "    \n",
    "    image = cv2.imread(image_path)\n",
    "    if image is None:\n",
    "        print(\"Error: Image not found!\")\n",
    "        return None\n",
    "    \n",
    "    h, w, _ = image.shape\n",
    "    total_pixels = h * w * 3\n",
    "    random.seed(secret_key)  # Ensure same randomness as embedding\n",
    "    positions = random.sample(range(total_pixels), total_pixels)\n",
    "    \n",
    "    binary_message = \"\"\n",
    "    for pos in positions:\n",
    "        x = (pos // 3) % w\n",
    "        y = (pos // (3 * w))\n",
    "        channel = pos % 3\n",
    "        binary_message += str(image[y, x, channel] & 1)\n",
    "        \n",
    "        if binary_message.endswith(\"1111111111111110\"):\n",
    "            binary_message = binary_message[:-16]  # Remove end marker\n",
    "            encrypted_text = ''.join(chr(int(binary_message[i:i+8], 2)) for i in range(0, len(binary_message), 8))\n",
    "            decrypted_message = decrypt_message(encrypted_text, secret_key)\n",
    "            \n",
    "            # Tamper Detection\n",
    "            original_hash = hashlib.sha256(decrypted_message.encode()).hexdigest()\n",
    "            if original_hash != \"8b12e6a4d...\":  # Replace with correct hash\n",
    "                print(\"⚠️ WARNING: Data has been altered! Extraction blocked.\")\n",
    "                return None\n",
    "            \n",
    "            print(\"✅ Secure Message Extracted:\", decrypted_message)\n",
    "            return decrypted_message\n",
    "    \n",
    "    print(\"No valid message found!\")\n",
    "    return None\n",
    "\n",
    "# Example Usage\n",
    "extract_message(\"encoded_secure.png\", secret_key=\"BlackOps123\", auth_code=\"RAW_SECRET_AUTH\")\n"
   ]
  },
  {
   "cell_type": "code",
   "execution_count": 22,
   "id": "fd3e2351-a1a8-4fc7-b8be-c2cfdf1bcfd3",
   "metadata": {},
   "outputs": [
    {
     "name": "stdout",
     "output_type": "stream",
     "text": [
      "❌ Decryption Error: Data must be padded to 16 byte boundary in CBC mode\n"
     ]
    }
   ],
   "source": [
    "import cv2\n",
    "import numpy as np\n",
    "import random\n",
    "import hashlib\n",
    "from Crypto.Cipher import AES\n",
    "import base64\n",
    "\n",
    "# AES Decryption Function\n",
    "def decrypt_message(encrypted_message, key):\n",
    "    \"\"\"Decrypts AES-256 encrypted message with proper padding handling\"\"\"\n",
    "    try:\n",
    "        key = hashlib.sha256(key.encode()).digest()  # Generate strong key\n",
    "        encrypted_message = base64.b64decode(encrypted_message.encode())  # Ensure proper encoding\n",
    "        iv = encrypted_message[:16]  # Extract IV\n",
    "        cipher = AES.new(key, AES.MODE_CBC, iv)\n",
    "        decrypted = cipher.decrypt(encrypted_message[16:])\n",
    "\n",
    "        # Remove PKCS7 Padding\n",
    "        pad = decrypted[-1]  # Last byte contains padding length\n",
    "        if isinstance(pad, int) and 1 <= pad <= 16:  # Valid padding check\n",
    "            decrypted = decrypted[:-pad]  # Remove padding\n",
    "\n",
    "        return decrypted.decode('utf-8', errors=\"ignore\")\n",
    "    except Exception as e:\n",
    "        print(\"❌ Decryption Error:\", str(e))\n",
    "        return None\n",
    "\n",
    "# Message Extraction from Image\n",
    "def extract_message(image_path, secret_key, auth_code):\n",
    "    \"\"\"Extracts encrypted message using randomized LSB steganography\"\"\"\n",
    "    \n",
    "    # Authentication Check\n",
    "    stored_auth_hash = \"f419ac24c4a9bd376a9f16bfc9c840267e293c04bfbadffc3acaaa8ef81ae2d2\"  # Pre-set hash\n",
    "    if hashlib.sha256(auth_code.encode()).hexdigest() != stored_auth_hash:\n",
    "        print(\"❌ Unauthorized Access! Data will self-destruct.\")\n",
    "        return None  \n",
    "    \n",
    "    image = cv2.imread(image_path)\n",
    "    if image is None:\n",
    "        print(\"Error: Image not found!\")\n",
    "        return None\n",
    "    \n",
    "    h, w, _ = image.shape\n",
    "    total_pixels = h * w * 3\n",
    "    random.seed(secret_key)  # Ensure same randomness as embedding\n",
    "    positions = random.sample(range(total_pixels), total_pixels)\n",
    "    \n",
    "    binary_message = \"\"\n",
    "    for pos in positions:\n",
    "        x = (pos // 3) % w\n",
    "        y = (pos // (3 * w))\n",
    "        channel = pos % 3\n",
    "        binary_message += str(image[y, x, channel] & 1)\n",
    "        \n",
    "        if binary_message.endswith(\"1111111111111110\"):  # Stop marker\n",
    "            binary_message = binary_message[:-16]  # Remove marker\n",
    "            try:\n",
    "                encrypted_text = ''.join(chr(int(binary_message[i:i+8], 2)) for i in range(0, len(binary_message), 8))\n",
    "                encrypted_text = encrypted_text.strip()  # Ensure no extra spaces\n",
    "                \n",
    "                decrypted_message = decrypt_message(encrypted_text, secret_key)\n",
    "                if decrypted_message is None:\n",
    "                    return None\n",
    "                \n",
    "                # Tamper Detection\n",
    "                expected_hash = \"8b12e6a4d...\"  # Replace with correct hash\n",
    "                if hashlib.sha256(decrypted_message.encode()).hexdigest() != expected_hash:\n",
    "                    print(\"⚠️ WARNING: Data has been altered! Extraction blocked.\")\n",
    "                    return None\n",
    "                \n",
    "                print(\"✅ Secure Message Extracted:\", decrypted_message)\n",
    "                return decrypted_message\n",
    "            except Exception as e:\n",
    "                print(\"❌ Decryption Error:\", str(e))\n",
    "                return None\n",
    "    \n",
    "    print(\"No valid message found!\")\n",
    "    return None\n",
    "\n",
    "# Example Usage\n",
    "extract_message(\"encoded_secure.png\", secret_key=\"BlackOps123\", auth_code=\"follow me\")\n"
   ]
  }
 ],
 "metadata": {
  "kernelspec": {
   "display_name": "Python [conda env:base] *",
   "language": "python",
   "name": "conda-base-py"
  },
  "language_info": {
   "codemirror_mode": {
    "name": "ipython",
    "version": 3
   },
   "file_extension": ".py",
   "mimetype": "text/x-python",
   "name": "python",
   "nbconvert_exporter": "python",
   "pygments_lexer": "ipython3",
   "version": "3.12.7"
  }
 },
 "nbformat": 4,
 "nbformat_minor": 5
}
